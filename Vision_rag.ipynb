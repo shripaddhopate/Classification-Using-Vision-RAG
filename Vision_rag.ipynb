{
 "cells": [
  {
   "cell_type": "code",
   "execution_count": 1,
   "id": "5d09b4b8-d63d-40d8-81c7-09a6e181ff10",
   "metadata": {},
   "outputs": [],
   "source": [
    "import os\n",
    "import torch\n",
    "import torchvision.transforms as transforms\n",
    "from torch.utils.data import DataLoader, Dataset\n",
    "from transformers import AutoModelForImageClassification, AutoFeatureExtractor,AutoModel\n",
    "from sklearn.metrics import classification_report\n",
    "import numpy as np\n",
    "import faiss"
   ]
  },
  {
   "cell_type": "code",
   "execution_count": 3,
   "id": "c72632b8-616e-437d-96df-a5be0322b071",
   "metadata": {},
   "outputs": [],
   "source": [
    "data_dir = \".\\\\data\\\\train\"\n",
    "data_dir = data_dir\n",
    "classes = os.listdir(data_dir)\n",
    "image_paths = []\n",
    "labels = []\n",
    "class_to_idx = {cls: idx for idx, cls in enumerate(classes)}\n",
    "\n",
    "for cls in classes:\n",
    "    cls_folder = os.path.join(data_dir, cls)\n",
    "    for img_file in os.listdir(cls_folder):\n",
    "        image_paths.append(os.path.join(cls_folder, img_file))\n",
    "        labels.append(class_to_idx[cls])"
   ]
  },
  {
   "cell_type": "code",
   "execution_count": 4,
   "id": "41a2a82c-3ce3-4b0f-9f58-eba9221cb16a",
   "metadata": {},
   "outputs": [],
   "source": [
    "from PIL import Image\n",
    "import torchvision.transforms.functional as F\n",
    "import torch\n",
    "\n",
    "class CustomImageDataset(torch.utils.data.Dataset):\n",
    "    def __init__(self, data_dir, transform=None):\n",
    "        self.data_dir = data_dir\n",
    "        self.classes = os.listdir(data_dir)\n",
    "        self.image_paths = []\n",
    "        self.labels = []\n",
    "        self.class_to_idx = {cls: idx for idx, cls in enumerate(self.classes)}\n",
    "\n",
    "        for cls in self.classes:\n",
    "            cls_folder = os.path.join(data_dir, cls)\n",
    "            for img_file in os.listdir(cls_folder):\n",
    "                self.image_paths.append(os.path.join(cls_folder, img_file))\n",
    "                self.labels.append(self.class_to_idx[cls])\n",
    "\n",
    "        self.transform = transform\n",
    "\n",
    "    def __len__(self):\n",
    "        return len(self.image_paths)\n",
    "\n",
    "    def __getitem__(self, idx):\n",
    "        img_path = self.image_paths[idx]\n",
    "        label = self.labels[idx]\n",
    "        \n",
    "        image = Image.open(img_path)\n",
    "\n",
    "        if self.transform:\n",
    "            image = self.transform(image)\n",
    "        if isinstance(image, torch.Tensor) is False:\n",
    "            image = F.pil_to_tensor(image)\n",
    "    \n",
    "        return image, label"
   ]
  },
  {
   "cell_type": "code",
   "execution_count": 5,
   "id": "2dc9c87c-0cb4-4494-a6b0-d711c0a9e421",
   "metadata": {},
   "outputs": [],
   "source": [
    "from tqdm import tqdm\n",
    "def extract_features(data_loader, model):\n",
    "    model.eval()\n",
    "    features = []\n",
    "    labels = []\n",
    "    with torch.no_grad():\n",
    "        for images, lbls in tqdm(data_loader, desc=\"Extracting Features\", unit=\"batch\"):\n",
    "            images = images.to(device)\n",
    "            outputs = model.get_image_features(images)\n",
    "            features.append(outputs.cpu().numpy())\n",
    "            labels.extend(lbls.numpy())\n",
    "    return np.vstack(features), np.array(labels)"
   ]
  },
  {
   "cell_type": "code",
   "execution_count": 6,
   "id": "5dc00d5f-c51b-4a44-8a18-6ebe01f31394",
   "metadata": {},
   "outputs": [
    {
     "name": "stderr",
     "output_type": "stream",
     "text": [
      "C:\\Users\\Shripad\\AppData\\Local\\Programs\\Python\\Python312\\Lib\\site-packages\\transformers\\models\\clip\\feature_extraction_clip.py:28: FutureWarning: The class CLIPFeatureExtractor is deprecated and will be removed in version 5 of Transformers. Please use CLIPImageProcessor instead.\n",
      "  warnings.warn(\n"
     ]
    },
    {
     "data": {
      "text/plain": [
       "CLIPModel(\n",
       "  (text_model): CLIPTextTransformer(\n",
       "    (embeddings): CLIPTextEmbeddings(\n",
       "      (token_embedding): Embedding(49408, 512)\n",
       "      (position_embedding): Embedding(77, 512)\n",
       "    )\n",
       "    (encoder): CLIPEncoder(\n",
       "      (layers): ModuleList(\n",
       "        (0-11): 12 x CLIPEncoderLayer(\n",
       "          (self_attn): CLIPSdpaAttention(\n",
       "            (k_proj): Linear(in_features=512, out_features=512, bias=True)\n",
       "            (v_proj): Linear(in_features=512, out_features=512, bias=True)\n",
       "            (q_proj): Linear(in_features=512, out_features=512, bias=True)\n",
       "            (out_proj): Linear(in_features=512, out_features=512, bias=True)\n",
       "          )\n",
       "          (layer_norm1): LayerNorm((512,), eps=1e-05, elementwise_affine=True)\n",
       "          (mlp): CLIPMLP(\n",
       "            (activation_fn): QuickGELUActivation()\n",
       "            (fc1): Linear(in_features=512, out_features=2048, bias=True)\n",
       "            (fc2): Linear(in_features=2048, out_features=512, bias=True)\n",
       "          )\n",
       "          (layer_norm2): LayerNorm((512,), eps=1e-05, elementwise_affine=True)\n",
       "        )\n",
       "      )\n",
       "    )\n",
       "    (final_layer_norm): LayerNorm((512,), eps=1e-05, elementwise_affine=True)\n",
       "  )\n",
       "  (vision_model): CLIPVisionTransformer(\n",
       "    (embeddings): CLIPVisionEmbeddings(\n",
       "      (patch_embedding): Conv2d(3, 768, kernel_size=(32, 32), stride=(32, 32), bias=False)\n",
       "      (position_embedding): Embedding(50, 768)\n",
       "    )\n",
       "    (pre_layrnorm): LayerNorm((768,), eps=1e-05, elementwise_affine=True)\n",
       "    (encoder): CLIPEncoder(\n",
       "      (layers): ModuleList(\n",
       "        (0-11): 12 x CLIPEncoderLayer(\n",
       "          (self_attn): CLIPSdpaAttention(\n",
       "            (k_proj): Linear(in_features=768, out_features=768, bias=True)\n",
       "            (v_proj): Linear(in_features=768, out_features=768, bias=True)\n",
       "            (q_proj): Linear(in_features=768, out_features=768, bias=True)\n",
       "            (out_proj): Linear(in_features=768, out_features=768, bias=True)\n",
       "          )\n",
       "          (layer_norm1): LayerNorm((768,), eps=1e-05, elementwise_affine=True)\n",
       "          (mlp): CLIPMLP(\n",
       "            (activation_fn): QuickGELUActivation()\n",
       "            (fc1): Linear(in_features=768, out_features=3072, bias=True)\n",
       "            (fc2): Linear(in_features=3072, out_features=768, bias=True)\n",
       "          )\n",
       "          (layer_norm2): LayerNorm((768,), eps=1e-05, elementwise_affine=True)\n",
       "        )\n",
       "      )\n",
       "    )\n",
       "    (post_layernorm): LayerNorm((768,), eps=1e-05, elementwise_affine=True)\n",
       "  )\n",
       "  (visual_projection): Linear(in_features=768, out_features=512, bias=False)\n",
       "  (text_projection): Linear(in_features=512, out_features=512, bias=False)\n",
       ")"
      ]
     },
     "execution_count": 6,
     "metadata": {},
     "output_type": "execute_result"
    }
   ],
   "source": [
    "model_name = \"openai/clip-vit-base-patch32\"  # Replace with specific Gemini model if available\n",
    "feature_extractor = AutoFeatureExtractor.from_pretrained(model_name)\n",
    "model = AutoModel.from_pretrained(model_name)  # For feature extraction, not classification\n",
    "device = torch.device(\"cuda\" if torch.cuda.is_available() else \"cpu\")\n",
    "model.to(device)"
   ]
  },
  {
   "cell_type": "code",
   "execution_count": 7,
   "id": "820c1716-8b7e-45c2-acda-1856919da613",
   "metadata": {},
   "outputs": [],
   "source": [
    "transform = transforms.Compose([\n",
    "    transforms.Resize((224, 224)),\n",
    "    transforms.ToTensor(),\n",
    "    transforms.Normalize(mean=[0.5, 0.5, 0.5], std=[0.5, 0.5, 0.5])\n",
    "])"
   ]
  },
  {
   "cell_type": "code",
   "execution_count": 8,
   "id": "c401f363-73a5-45c3-a324-a1a26281e199",
   "metadata": {},
   "outputs": [],
   "source": [
    "data_dir = \".\\\\data\\\\train\"\n",
    "dataset = CustomImageDataset(data_dir, transform=transform)\n",
    "data_loader = DataLoader(dataset, batch_size=16, shuffle=False)"
   ]
  },
  {
   "cell_type": "code",
   "execution_count": 9,
   "id": "5e7d40bc-14b3-45f7-95c1-e6a0fb238c47",
   "metadata": {},
   "outputs": [
    {
     "name": "stderr",
     "output_type": "stream",
     "text": [
      "Extracting Features: 100%|████████████████████████████████████████████████████████| 166/166 [02:40<00:00,  1.03batch/s]\n"
     ]
    }
   ],
   "source": [
    "features, labels = extract_features(data_loader, model)"
   ]
  },
  {
   "cell_type": "code",
   "execution_count": null,
   "id": "1d5db1d1-6cf7-499f-850c-4c833b1090a0",
   "metadata": {},
   "outputs": [],
   "source": []
  },
  {
   "cell_type": "code",
   "execution_count": 10,
   "id": "4714b5ca-1b66-405d-954a-9395b0388955",
   "metadata": {},
   "outputs": [],
   "source": [
    "index = faiss.IndexFlatL2(features.shape[1])  \n",
    "index.add(features)"
   ]
  },
  {
   "cell_type": "markdown",
   "id": "14cf691a-55b3-4478-a32e-97b3461eaf92",
   "metadata": {},
   "source": [
    "### Validation "
   ]
  },
  {
   "cell_type": "code",
   "execution_count": 13,
   "id": "c01c22aa-eb51-4501-95a0-a0b8cb2e5eec",
   "metadata": {},
   "outputs": [],
   "source": [
    "def retrieve_similar_images(query_image, model, index, k=5):\n",
    "    model.eval()\n",
    "    with torch.no_grad():\n",
    "        query_features = model.get_image_features(query_image.unsqueeze(0).to(device)).cpu().numpy()\n",
    "    distances, indices = index.search(query_features, k)\n",
    "    return indices, distances\n",
    "def classify_image(query_image, model, index, labels, k=5):\n",
    "    indices, distances = retrieve_similar_images(query_image, model, index, k)\n",
    "    retrieved_labels = labels[indices[0]]\n",
    "    predicted_label = np.bincount(retrieved_labels).argmax()  # Majority voting\n",
    "    return predicted_label"
   ]
  },
  {
   "cell_type": "code",
   "execution_count": 16,
   "id": "fa7b9a88-fd37-4b63-b5cb-3d8b22bd6285",
   "metadata": {},
   "outputs": [
    {
     "name": "stderr",
     "output_type": "stream",
     "text": [
      "100%|██████████████████████████████████████████████████████████████████████████████████| 31/31 [00:02<00:00, 11.57it/s]"
     ]
    },
    {
     "name": "stdout",
     "output_type": "stream",
     "text": [
      "              precision    recall  f1-score   support\n",
      "\n",
      "       daisy       1.00      0.80      0.89         5\n",
      "   dandelion       0.86      1.00      0.92         6\n",
      "        rose       0.88      0.88      0.88         8\n",
      "   sunflower       1.00      1.00      1.00         6\n",
      "       tulip       0.83      0.83      0.83         6\n",
      "\n",
      "    accuracy                           0.90        31\n",
      "   macro avg       0.91      0.90      0.90        31\n",
      "weighted avg       0.91      0.90      0.90        31\n",
      "\n"
     ]
    },
    {
     "name": "stderr",
     "output_type": "stream",
     "text": [
      "\n"
     ]
    }
   ],
   "source": [
    "# Example Usage\n",
    "val_data_dir = \".\\\\data\\\\val\\\\\"\n",
    "val_dataset = CustomImageDataset(data_dir=val_data_dir, transform=transform)\n",
    "val_loader = DataLoader(val_dataset, batch_size=1, shuffle=False)\n",
    "\n",
    "# Evaluate the system\n",
    "model.eval()\n",
    "all_preds = []\n",
    "all_labels = []\n",
    "\n",
    "for images, lbls in tqdm(val_loader):\n",
    "    query_image = images[0]\n",
    "    true_label = lbls[0].item()\n",
    "    predicted_label = classify_image(query_image, model, index, labels, k=5)\n",
    "\n",
    "    all_preds.append(predicted_label)\n",
    "    all_labels.append(true_label)\n",
    "\n",
    "from sklearn.metrics import classification_report,confusion_matrix\n",
    "print(classification_report(all_labels, all_preds, target_names=dataset.classes))"
   ]
  },
  {
   "cell_type": "code",
   "execution_count": 20,
   "id": "9cacd032-af9c-46f2-a51d-911522773386",
   "metadata": {},
   "outputs": [
    {
     "data": {
      "image/png": "[encoded data removed]",
      "text/plain": [
       "<Figure size 800x600 with 2 Axes>"
      ]
     },
     "metadata": {},
     "output_type": "display_data"
    }
   ],
   "source": [
    "import matplotlib.pyplot as plt\n",
    "import seaborn as sns\n",
    "cm = confusion_matrix(all_labels, all_preds)\n",
    "\n",
    "# Plot the confusion matrix\n",
    "plt.figure(figsize=(8, 6))\n",
    "sns.heatmap(cm, annot=True, fmt=\"d\", cmap=\"Blues\", xticklabels=dataset.classes, yticklabels=dataset.classes)\n",
    "plt.xlabel(\"Predicted Label\")\n",
    "plt.ylabel(\"True Label\")\n",
    "plt.title(\"Confusion Matrix\")\n",
    "plt.show()"
   ]
  },
  {
   "cell_type": "code",
   "execution_count": 21,
   "id": "e30235e2-2cbf-4178-8fe0-e255c9ef4517",
   "metadata": {},
   "outputs": [],
   "source": [
    "faiss.write_index(index, \"faiss_index_flower.bin\")\n",
    "import json"
   ]
  },
  {
   "cell_type": "code",
   "execution_count": 22,
   "id": "4d3fbaa2-1a29-40a7-a810-7ef941831e97",
   "metadata": {},
   "outputs": [],
   "source": [
    "faiss_index = faiss.read_index(\"faiss_index_flower.bin\")"
   ]
  },
  {
   "cell_type": "code",
   "execution_count": null,
   "id": "e490f6fc-f612-4a60-bd42-60eb927edbd2",
   "metadata": {},
   "outputs": [],
   "source": []
  },
  {
   "cell_type": "code",
   "execution_count": null,
   "id": "793c9aa5-42a5-48dd-a492-8822b21fecca",
   "metadata": {},
   "outputs": [],
   "source": []
  },
  {
   "cell_type": "code",
   "execution_count": null,
   "id": "bb851e0d-cf1c-4347-8d34-48a84ca5223b",
   "metadata": {},
   "outputs": [],
   "source": []
  },
  {
   "cell_type": "code",
   "execution_count": null,
   "id": "d610caef-7943-4b0a-b1c8-67b6c3069b64",
   "metadata": {},
   "outputs": [],
   "source": []
  }
 ],
 "metadata": {
  "kernelspec": {
   "display_name": "Python 3 (ipykernel)",
   "language": "python",
   "name": "python3"
  },
  "language_info": {
   "codemirror_mode": {
    "name": "ipython",
    "version": 3
   },
   "file_extension": ".py",
   "mimetype": "text/x-python",
   "name": "python",
   "nbconvert_exporter": "python",
   "pygments_lexer": "ipython3",
   "version": "3.12.6"
  }
 },
 "nbformat": 4,
 "nbformat_minor": 5
}
